{
 "cells": [
  {
   "cell_type": "markdown",
   "id": "484a1fbe09b932b3",
   "metadata": {},
   "source": [
    "# Titanic Dataset\n",
    "## TP1 de Projeto de Bloco: Inteligência Artificial e Machine Learning [25E1_5]\n",
    "### Aluno: Lucas de Souza Ferreira\n"
   ]
  },
  {
   "cell_type": "markdown",
   "id": "33a6f850f1a6038e",
   "metadata": {},
   "source": [
    "| Variável  | Tipo de Dado | Descrição | Valores Possíveis |\n",
    "|-----------|--------------|-----------|-------------------|\n",
    "| Survival  | Integer      | Indica se o passageiro sobreviveu | 0: Não sobreviveu, 1: Sobreviveu |\n",
    "| Pclass    | Integer      | Classe da passagem | 1: Primeira Classe, 2: Segunda Classe, 3: Terceira Classe |\n",
    "| Sex       | String       | Gênero do passageiro | 'male', 'female' |\n",
    "| Age       | Float        | Idade do passageiro | Valor em anos (pode conter valores nulos) |\n",
    "| Sibsp     | Integer      | Quantidade de irmãos/cônjuges a bordo | Número inteiro ≥ 0 |\n",
    "| Parch     | Integer      | Quantidade de pais/filhos a bordo | Número inteiro ≥ 0 |\n",
    "| Ticket    | String       | Número do bilhete | Código alfanumérico |\n",
    "| Fare      | Float        | Valor da tarifa | Valor em libras esterlinas (£) da época |\n",
    "| Cabin     | String       | Número da cabine | Código alfanumérico (pode conter valores nulos) |\n",
    "| Embarked  | String       | Porto de embarque | 'C': Cherbourg, 'Q': Queenstown, 'S': Southampton |"
   ]
  },
  {
   "cell_type": "markdown",
   "id": "9a6c9d0ef9a5e2a4",
   "metadata": {},
   "source": [
    "## Importações"
   ]
  },
  {
   "cell_type": "code",
   "id": "a2c18f2c6599a06",
   "metadata": {
    "ExecuteTime": {
     "end_time": "2025-03-12T13:58:10.062085Z",
     "start_time": "2025-03-12T13:58:08.403060Z"
    }
   },
   "source": [
    "# Import de Pandas, para manipulação de dados\n",
    "import pandas as pd\n",
    "# Import de Seaborn, para visualização de gráficos\n",
    "import seaborn as sns\n",
    "# Import de Matplotlib, para visualização de gráficos\n",
    "import matplotlib.pyplot as plt\n",
    "# Import de Sklearn.preprocessing LabelEncoder, para transformar variáveis categóricas em numéricas\n",
    "from sklearn.preprocessing import LabelEncoder\n",
    "# Import de Sklearn.model_selection train_test_split, para dividir os dados em conjuntos de treino e validação\n",
    "from sklearn.model_selection import train_test_split\n",
    "# Import de Sklearn.preprocessing StandardScaler, para padronizar os dados\n",
    "from sklearn.preprocessing import StandardScaler\n",
    "# Import de Sklearn.neighbors KNeighborsClassifier, para classificação com KNN\n",
    "from sklearn.neighbors import KNeighborsClassifier\n",
    "# Import de Numpy, para manipulação de arrays\n",
    "import numpy as np"
   ],
   "outputs": [],
   "execution_count": 1
  },
  {
   "cell_type": "markdown",
   "id": "e71f471796fee4bd",
   "metadata": {},
   "source": [
    "## Carregamento dos Dados"
   ]
  },
  {
   "cell_type": "code",
   "id": "f9c978e5cb854834",
   "metadata": {
    "ExecuteTime": {
     "end_time": "2025-03-12T13:58:10.173540Z",
     "start_time": "2025-03-12T13:58:10.109579Z"
    }
   },
   "source": [
    "# Carregando os dados\n",
    "df = pd.read_csv('datasets/train.csv')\n",
    "\n",
    "print(\"Titanic // Primeiras linhas:\")\n",
    "df.head()"
   ],
   "outputs": [
    {
     "name": "stdout",
     "output_type": "stream",
     "text": [
      "Titanic // Primeiras linhas:\n"
     ]
    },
    {
     "data": {
      "text/plain": [
       "   PassengerId  Survived  Pclass  \\\n",
       "0            1         0       3   \n",
       "1            2         1       1   \n",
       "2            3         1       3   \n",
       "3            4         1       1   \n",
       "4            5         0       3   \n",
       "\n",
       "                                                Name     Sex   Age  SibSp  \\\n",
       "0                            Braund, Mr. Owen Harris    male  22.0      1   \n",
       "1  Cumings, Mrs. John Bradley (Florence Briggs Th...  female  38.0      1   \n",
       "2                             Heikkinen, Miss. Laina  female  26.0      0   \n",
       "3       Futrelle, Mrs. Jacques Heath (Lily May Peel)  female  35.0      1   \n",
       "4                           Allen, Mr. William Henry    male  35.0      0   \n",
       "\n",
       "   Parch            Ticket     Fare Cabin Embarked  \n",
       "0      0         A/5 21171   7.2500   NaN        S  \n",
       "1      0          PC 17599  71.2833   C85        C  \n",
       "2      0  STON/O2. 3101282   7.9250   NaN        S  \n",
       "3      0            113803  53.1000  C123        S  \n",
       "4      0            373450   8.0500   NaN        S  "
      ],
      "text/html": [
       "<div>\n",
       "<style scoped>\n",
       "    .dataframe tbody tr th:only-of-type {\n",
       "        vertical-align: middle;\n",
       "    }\n",
       "\n",
       "    .dataframe tbody tr th {\n",
       "        vertical-align: top;\n",
       "    }\n",
       "\n",
       "    .dataframe thead th {\n",
       "        text-align: right;\n",
       "    }\n",
       "</style>\n",
       "<table border=\"1\" class=\"dataframe\">\n",
       "  <thead>\n",
       "    <tr style=\"text-align: right;\">\n",
       "      <th></th>\n",
       "      <th>PassengerId</th>\n",
       "      <th>Survived</th>\n",
       "      <th>Pclass</th>\n",
       "      <th>Name</th>\n",
       "      <th>Sex</th>\n",
       "      <th>Age</th>\n",
       "      <th>SibSp</th>\n",
       "      <th>Parch</th>\n",
       "      <th>Ticket</th>\n",
       "      <th>Fare</th>\n",
       "      <th>Cabin</th>\n",
       "      <th>Embarked</th>\n",
       "    </tr>\n",
       "  </thead>\n",
       "  <tbody>\n",
       "    <tr>\n",
       "      <th>0</th>\n",
       "      <td>1</td>\n",
       "      <td>0</td>\n",
       "      <td>3</td>\n",
       "      <td>Braund, Mr. Owen Harris</td>\n",
       "      <td>male</td>\n",
       "      <td>22.0</td>\n",
       "      <td>1</td>\n",
       "      <td>0</td>\n",
       "      <td>A/5 21171</td>\n",
       "      <td>7.2500</td>\n",
       "      <td>NaN</td>\n",
       "      <td>S</td>\n",
       "    </tr>\n",
       "    <tr>\n",
       "      <th>1</th>\n",
       "      <td>2</td>\n",
       "      <td>1</td>\n",
       "      <td>1</td>\n",
       "      <td>Cumings, Mrs. John Bradley (Florence Briggs Th...</td>\n",
       "      <td>female</td>\n",
       "      <td>38.0</td>\n",
       "      <td>1</td>\n",
       "      <td>0</td>\n",
       "      <td>PC 17599</td>\n",
       "      <td>71.2833</td>\n",
       "      <td>C85</td>\n",
       "      <td>C</td>\n",
       "    </tr>\n",
       "    <tr>\n",
       "      <th>2</th>\n",
       "      <td>3</td>\n",
       "      <td>1</td>\n",
       "      <td>3</td>\n",
       "      <td>Heikkinen, Miss. Laina</td>\n",
       "      <td>female</td>\n",
       "      <td>26.0</td>\n",
       "      <td>0</td>\n",
       "      <td>0</td>\n",
       "      <td>STON/O2. 3101282</td>\n",
       "      <td>7.9250</td>\n",
       "      <td>NaN</td>\n",
       "      <td>S</td>\n",
       "    </tr>\n",
       "    <tr>\n",
       "      <th>3</th>\n",
       "      <td>4</td>\n",
       "      <td>1</td>\n",
       "      <td>1</td>\n",
       "      <td>Futrelle, Mrs. Jacques Heath (Lily May Peel)</td>\n",
       "      <td>female</td>\n",
       "      <td>35.0</td>\n",
       "      <td>1</td>\n",
       "      <td>0</td>\n",
       "      <td>113803</td>\n",
       "      <td>53.1000</td>\n",
       "      <td>C123</td>\n",
       "      <td>S</td>\n",
       "    </tr>\n",
       "    <tr>\n",
       "      <th>4</th>\n",
       "      <td>5</td>\n",
       "      <td>0</td>\n",
       "      <td>3</td>\n",
       "      <td>Allen, Mr. William Henry</td>\n",
       "      <td>male</td>\n",
       "      <td>35.0</td>\n",
       "      <td>0</td>\n",
       "      <td>0</td>\n",
       "      <td>373450</td>\n",
       "      <td>8.0500</td>\n",
       "      <td>NaN</td>\n",
       "      <td>S</td>\n",
       "    </tr>\n",
       "  </tbody>\n",
       "</table>\n",
       "</div>"
      ]
     },
     "execution_count": 2,
     "metadata": {},
     "output_type": "execute_result"
    }
   ],
   "execution_count": 2
  },
  {
   "cell_type": "markdown",
   "id": "41841c823c0a434d",
   "metadata": {},
   "source": [
    "## Informações e Estatísticas Básicas do Dataset Titanic"
   ]
  },
  {
   "cell_type": "code",
   "id": "85691f0fae15f44b",
   "metadata": {
    "ExecuteTime": {
     "end_time": "2025-03-12T13:58:11.659693Z",
     "start_time": "2025-03-12T13:58:11.634181Z"
    }
   },
   "source": [
    "df.info()"
   ],
   "outputs": [
    {
     "name": "stdout",
     "output_type": "stream",
     "text": [
      "<class 'pandas.core.frame.DataFrame'>\n",
      "RangeIndex: 891 entries, 0 to 890\n",
      "Data columns (total 12 columns):\n",
      " #   Column       Non-Null Count  Dtype  \n",
      "---  ------       --------------  -----  \n",
      " 0   PassengerId  891 non-null    int64  \n",
      " 1   Survived     891 non-null    int64  \n",
      " 2   Pclass       891 non-null    int64  \n",
      " 3   Name         891 non-null    object \n",
      " 4   Sex          891 non-null    object \n",
      " 5   Age          714 non-null    float64\n",
      " 6   SibSp        891 non-null    int64  \n",
      " 7   Parch        891 non-null    int64  \n",
      " 8   Ticket       891 non-null    object \n",
      " 9   Fare         891 non-null    float64\n",
      " 10  Cabin        204 non-null    object \n",
      " 11  Embarked     889 non-null    object \n",
      "dtypes: float64(2), int64(5), object(5)\n",
      "memory usage: 83.7+ KB\n"
     ]
    }
   ],
   "execution_count": 3
  },
  {
   "cell_type": "markdown",
   "id": "2bcecc8e8ecadcba",
   "metadata": {},
   "source": [
    "## Análise Estatística Descritiva"
   ]
  },
  {
   "cell_type": "code",
   "id": "7ea575383389fc2c",
   "metadata": {
    "ExecuteTime": {
     "end_time": "2025-03-12T13:58:11.752245Z",
     "start_time": "2025-03-12T13:58:11.728590Z"
    }
   },
   "source": [
    "# Analise Estatisca Descritiva, utilizando o método describe()\n",
    "df.describe()"
   ],
   "outputs": [
    {
     "data": {
      "text/plain": [
       "       PassengerId    Survived      Pclass         Age       SibSp  \\\n",
       "count   891.000000  891.000000  891.000000  714.000000  891.000000   \n",
       "mean    446.000000    0.383838    2.308642   29.699118    0.523008   \n",
       "std     257.353842    0.486592    0.836071   14.526497    1.102743   \n",
       "min       1.000000    0.000000    1.000000    0.420000    0.000000   \n",
       "25%     223.500000    0.000000    2.000000   20.125000    0.000000   \n",
       "50%     446.000000    0.000000    3.000000   28.000000    0.000000   \n",
       "75%     668.500000    1.000000    3.000000   38.000000    1.000000   \n",
       "max     891.000000    1.000000    3.000000   80.000000    8.000000   \n",
       "\n",
       "            Parch        Fare  \n",
       "count  891.000000  891.000000  \n",
       "mean     0.381594   32.204208  \n",
       "std      0.806057   49.693429  \n",
       "min      0.000000    0.000000  \n",
       "25%      0.000000    7.910400  \n",
       "50%      0.000000   14.454200  \n",
       "75%      0.000000   31.000000  \n",
       "max      6.000000  512.329200  "
      ],
      "text/html": [
       "<div>\n",
       "<style scoped>\n",
       "    .dataframe tbody tr th:only-of-type {\n",
       "        vertical-align: middle;\n",
       "    }\n",
       "\n",
       "    .dataframe tbody tr th {\n",
       "        vertical-align: top;\n",
       "    }\n",
       "\n",
       "    .dataframe thead th {\n",
       "        text-align: right;\n",
       "    }\n",
       "</style>\n",
       "<table border=\"1\" class=\"dataframe\">\n",
       "  <thead>\n",
       "    <tr style=\"text-align: right;\">\n",
       "      <th></th>\n",
       "      <th>PassengerId</th>\n",
       "      <th>Survived</th>\n",
       "      <th>Pclass</th>\n",
       "      <th>Age</th>\n",
       "      <th>SibSp</th>\n",
       "      <th>Parch</th>\n",
       "      <th>Fare</th>\n",
       "    </tr>\n",
       "  </thead>\n",
       "  <tbody>\n",
       "    <tr>\n",
       "      <th>count</th>\n",
       "      <td>891.000000</td>\n",
       "      <td>891.000000</td>\n",
       "      <td>891.000000</td>\n",
       "      <td>714.000000</td>\n",
       "      <td>891.000000</td>\n",
       "      <td>891.000000</td>\n",
       "      <td>891.000000</td>\n",
       "    </tr>\n",
       "    <tr>\n",
       "      <th>mean</th>\n",
       "      <td>446.000000</td>\n",
       "      <td>0.383838</td>\n",
       "      <td>2.308642</td>\n",
       "      <td>29.699118</td>\n",
       "      <td>0.523008</td>\n",
       "      <td>0.381594</td>\n",
       "      <td>32.204208</td>\n",
       "    </tr>\n",
       "    <tr>\n",
       "      <th>std</th>\n",
       "      <td>257.353842</td>\n",
       "      <td>0.486592</td>\n",
       "      <td>0.836071</td>\n",
       "      <td>14.526497</td>\n",
       "      <td>1.102743</td>\n",
       "      <td>0.806057</td>\n",
       "      <td>49.693429</td>\n",
       "    </tr>\n",
       "    <tr>\n",
       "      <th>min</th>\n",
       "      <td>1.000000</td>\n",
       "      <td>0.000000</td>\n",
       "      <td>1.000000</td>\n",
       "      <td>0.420000</td>\n",
       "      <td>0.000000</td>\n",
       "      <td>0.000000</td>\n",
       "      <td>0.000000</td>\n",
       "    </tr>\n",
       "    <tr>\n",
       "      <th>25%</th>\n",
       "      <td>223.500000</td>\n",
       "      <td>0.000000</td>\n",
       "      <td>2.000000</td>\n",
       "      <td>20.125000</td>\n",
       "      <td>0.000000</td>\n",
       "      <td>0.000000</td>\n",
       "      <td>7.910400</td>\n",
       "    </tr>\n",
       "    <tr>\n",
       "      <th>50%</th>\n",
       "      <td>446.000000</td>\n",
       "      <td>0.000000</td>\n",
       "      <td>3.000000</td>\n",
       "      <td>28.000000</td>\n",
       "      <td>0.000000</td>\n",
       "      <td>0.000000</td>\n",
       "      <td>14.454200</td>\n",
       "    </tr>\n",
       "    <tr>\n",
       "      <th>75%</th>\n",
       "      <td>668.500000</td>\n",
       "      <td>1.000000</td>\n",
       "      <td>3.000000</td>\n",
       "      <td>38.000000</td>\n",
       "      <td>1.000000</td>\n",
       "      <td>0.000000</td>\n",
       "      <td>31.000000</td>\n",
       "    </tr>\n",
       "    <tr>\n",
       "      <th>max</th>\n",
       "      <td>891.000000</td>\n",
       "      <td>1.000000</td>\n",
       "      <td>3.000000</td>\n",
       "      <td>80.000000</td>\n",
       "      <td>8.000000</td>\n",
       "      <td>6.000000</td>\n",
       "      <td>512.329200</td>\n",
       "    </tr>\n",
       "  </tbody>\n",
       "</table>\n",
       "</div>"
      ]
     },
     "execution_count": 4,
     "metadata": {},
     "output_type": "execute_result"
    }
   ],
   "execution_count": 4
  },
  {
   "cell_type": "markdown",
   "id": "c5612d76eae49340",
   "metadata": {},
   "source": [
    "## Visualizando Valores Nulos"
   ]
  },
  {
   "cell_type": "markdown",
   "id": "70eefc3f9140b525",
   "metadata": {},
   "source": [
    "### <em style=\"color:lightblue;\">Verificando os valores Nulos por coluna</em>"
   ]
  },
  {
   "cell_type": "code",
   "id": "2aecf00af02f1096",
   "metadata": {
    "ExecuteTime": {
     "end_time": "2025-03-12T13:58:11.936637Z",
     "start_time": "2025-03-12T13:58:11.926137Z"
    }
   },
   "source": [
    "# Verificando os valores nulos por coluna\n",
    "df.isnull().sum()"
   ],
   "outputs": [
    {
     "data": {
      "text/plain": [
       "PassengerId      0\n",
       "Survived         0\n",
       "Pclass           0\n",
       "Name             0\n",
       "Sex              0\n",
       "Age            177\n",
       "SibSp            0\n",
       "Parch            0\n",
       "Ticket           0\n",
       "Fare             0\n",
       "Cabin          687\n",
       "Embarked         2\n",
       "dtype: int64"
      ]
     },
     "execution_count": 5,
     "metadata": {},
     "output_type": "execute_result"
    }
   ],
   "execution_count": 5
  },
  {
   "cell_type": "markdown",
   "id": "5572492dfb9ec0b8",
   "metadata": {},
   "source": [
    "## Visualizando Valores"
   ]
  },
  {
   "cell_type": "markdown",
   "id": "75dd8f542e2841dc",
   "metadata": {},
   "source": [
    "### <em style=\"color:lightblue;\">Idade (Age) </em>"
   ]
  },
  {
   "cell_type": "code",
   "id": "88d68e7651d2d83b",
   "metadata": {
    "ExecuteTime": {
     "end_time": "2025-03-12T13:58:12.858117Z",
     "start_time": "2025-03-12T13:58:12.850149Z"
    }
   },
   "source": [
    "# Verificando a quantidade de valores nulos na coluna 'Age' e a quantidade de linhas do dataset\n",
    "df[df['Age'].isnull()].shape"
   ],
   "outputs": [
    {
     "data": {
      "text/plain": [
       "(177, 12)"
      ]
     },
     "execution_count": 6,
     "metadata": {},
     "output_type": "execute_result"
    }
   ],
   "execution_count": 6
  },
  {
   "cell_type": "markdown",
   "id": "f5ea7f2fe3b26f7f",
   "metadata": {},
   "source": [
    "### <em style=\"color:lightblue;\">Visualizando a Destribuição de Idade </em>"
   ]
  },
  {
   "cell_type": "code",
   "id": "a151b4f35658c5bd",
   "metadata": {
    "ExecuteTime": {
     "end_time": "2025-03-12T13:58:14.392341Z",
     "start_time": "2025-03-12T13:58:14.093133Z"
    }
   },
   "source": [
    "#Visualizando distribuição de idade dos passageiros do Titanic (com valores nulos)\n",
    "df.Age.plot.box()"
   ],
   "outputs": [
    {
     "data": {
      "text/plain": [
       "<Axes: >"
      ]
     },
     "execution_count": 7,
     "metadata": {},
     "output_type": "execute_result"
    },
    {
     "data": {
      "text/plain": [
       "<Figure size 640x480 with 1 Axes>"
      ],
      "image/png": "[encoded data removed]"
     },
     "metadata": {},
     "output_type": "display_data"
    }
   ],
   "execution_count": 7
  },
  {
   "cell_type": "markdown",
   "id": "3d41b8b63f0cf47d",
   "metadata": {},
   "source": [
    "### <em style=\"color:lightblue;\">Contagem de pessoas por genero em cada classe</em>"
   ]
  },
  {
   "cell_type": "code",
   "id": "59d3fda4cfa51f3f",
   "metadata": {
    "ExecuteTime": {
     "end_time": "2025-03-12T13:58:14.522793Z",
     "start_time": "2025-03-12T13:58:14.504781Z"
    }
   },
   "source": [
    "# Contagem de pessoas por genero em cada classe\n",
    "print(\"Contagem de pessoas por genero em cada classe:\")\n",
    "df.groupby(['Pclass', 'Sex'])['Pclass'].count()"
   ],
   "outputs": [
    {
     "name": "stdout",
     "output_type": "stream",
     "text": [
      "Contagem de pessoas por genero em cada classe:\n"
     ]
    },
    {
     "data": {
      "text/plain": [
       "Pclass  Sex   \n",
       "1       female     94\n",
       "        male      122\n",
       "2       female     76\n",
       "        male      108\n",
       "3       female    144\n",
       "        male      347\n",
       "Name: Pclass, dtype: int64"
      ]
     },
     "execution_count": 8,
     "metadata": {},
     "output_type": "execute_result"
    }
   ],
   "execution_count": 8
  },
  {
   "cell_type": "markdown",
   "id": "6147b765a47b19e5",
   "metadata": {},
   "source": [
    "### <em style=\"color:lightblue;\">A porcentagem de pessoas por classe.</em>"
   ]
  },
  {
   "cell_type": "code",
   "id": "39b614c00a54c4b6",
   "metadata": {
    "ExecuteTime": {
     "end_time": "2025-03-12T13:58:15.102798Z",
     "start_time": "2025-03-12T13:58:14.840509Z"
    }
   },
   "source": [
    "df['Pclass'].value_counts(normalize=True).round(2)\n",
    "\n",
    "plt.figure(figsize=(4, 3))\n",
    "sns.barplot(data=df, x='Pclass', y='Pclass', estimator=lambda x: len(x) / len(df) * 100)\n",
    "plt.title('Porcentagem de Pessoas por Classe')\n",
    "plt.xlabel('Classe')\n",
    "plt.ylabel('Porcentagem')\n",
    "plt.show()\n"
   ],
   "outputs": [
    {
     "data": {
      "text/plain": [
       "<Figure size 400x300 with 1 Axes>"
      ],
      "image/png": "[encoded data removed]"
     },
     "metadata": {},
     "output_type": "display_data"
    }
   ],
   "execution_count": 9
  },
  {
   "cell_type": "markdown",
   "id": "4d00a740cb39d670",
   "metadata": {},
   "source": [
    "### <em style=\"color:lightblue;\">A MÉDIA das idades de pessoas por classe</em>"
   ]
  },
  {
   "cell_type": "code",
   "id": "7fbe9775d254cb2c",
   "metadata": {
    "ExecuteTime": {
     "end_time": "2025-03-12T13:58:15.251459Z",
     "start_time": "2025-03-12T13:58:15.239760Z"
    }
   },
   "source": [
    "# A média das idades de pessoas por classe\n",
    "df.groupby(['Pclass', \"Sex\"])['Age'].mean().round()"
   ],
   "outputs": [
    {
     "data": {
      "text/plain": [
       "Pclass  Sex   \n",
       "1       female    35.0\n",
       "        male      41.0\n",
       "2       female    29.0\n",
       "        male      31.0\n",
       "3       female    22.0\n",
       "        male      27.0\n",
       "Name: Age, dtype: float64"
      ]
     },
     "execution_count": 10,
     "metadata": {},
     "output_type": "execute_result"
    }
   ],
   "execution_count": 10
  },
  {
   "cell_type": "markdown",
   "id": "e25bae9c1689e7d9",
   "metadata": {},
   "source": [
    "## Tratamento de Valores Nulos (Age)"
   ]
  },
  {
   "cell_type": "code",
   "id": "fa20c807fb606ae0",
   "metadata": {
    "ExecuteTime": {
     "end_time": "2025-03-12T13:58:15.423610Z",
     "start_time": "2025-03-12T13:58:15.413926Z"
    }
   },
   "source": [
    "#\n",
    "df['Age'] = df['Age'].fillna(df.groupby(['Pclass', 'Sex'])['Age'].transform('mean'))\n"
   ],
   "outputs": [],
   "execution_count": 11
  },
  {
   "cell_type": "markdown",
   "id": "77fb2de77bf610b2",
   "metadata": {},
   "source": [
    "## Deletando Colunas irrelevantes"
   ]
  },
  {
   "cell_type": "markdown",
   "id": "abf609665f53c12f",
   "metadata": {},
   "source": [
    "As Colunas que serão utilizadas como features são:\n",
    "- Pclass\n",
    "- Sex\n",
    "- Age\n",
    "\n",
    "A coluna que será utilizada como target é:\n",
    "- Survived"
   ]
  },
  {
   "cell_type": "markdown",
   "id": "280d7a3919571340",
   "metadata": {},
   "source": [
    "### <em style=\"color:lightblue;\">Remoção das colunas irrelevantes</em>"
   ]
  },
  {
   "cell_type": "code",
   "id": "b624582dea6ef342",
   "metadata": {
    "ExecuteTime": {
     "end_time": "2025-03-12T13:58:15.556271Z",
     "start_time": "2025-03-12T13:58:15.548011Z"
    }
   },
   "source": [
    "# Removendo colunas irrelevantes\n",
    "# Todas, exceto Pclass, Sex, Age e Survived\n",
    "\n",
    "df.drop(['PassengerId', 'Name', 'SibSp', 'Parch', 'Ticket', 'Fare', 'Cabin', 'Embarked'], axis=1, inplace=True)"
   ],
   "outputs": [],
   "execution_count": 12
  },
  {
   "cell_type": "markdown",
   "id": "ce828b216614dd93",
   "metadata": {},
   "source": [
    "### <em style=\"color:lightblue;\">Verificando as primeiras linhas do dataset após a remoção das colunas</em>"
   ]
  },
  {
   "cell_type": "code",
   "id": "d1ad640b0501fff9",
   "metadata": {
    "ExecuteTime": {
     "end_time": "2025-03-12T13:58:15.719786Z",
     "start_time": "2025-03-12T13:58:15.706819Z"
    }
   },
   "source": [
    "# Verificando as primeiras linhas do dataset após a remoção das colunas\n",
    "df.info()"
   ],
   "outputs": [
    {
     "name": "stdout",
     "output_type": "stream",
     "text": [
      "<class 'pandas.core.frame.DataFrame'>\n",
      "RangeIndex: 891 entries, 0 to 890\n",
      "Data columns (total 4 columns):\n",
      " #   Column    Non-Null Count  Dtype  \n",
      "---  ------    --------------  -----  \n",
      " 0   Survived  891 non-null    int64  \n",
      " 1   Pclass    891 non-null    int64  \n",
      " 2   Sex       891 non-null    object \n",
      " 3   Age       891 non-null    float64\n",
      "dtypes: float64(1), int64(2), object(1)\n",
      "memory usage: 28.0+ KB\n"
     ]
    }
   ],
   "execution_count": 13
  },
  {
   "cell_type": "markdown",
   "id": "f36dab066a148de5",
   "metadata": {},
   "source": [
    "## Visualizando Taxas de Sobrevivência"
   ]
  },
  {
   "cell_type": "markdown",
   "id": "9688edbacb2d0199",
   "metadata": {},
   "source": [
    "### <em style=\"color:lightblue;\">Configurando Seaborn</em>"
   ]
  },
  {
   "cell_type": "code",
   "id": "2ca35663758fb7b1",
   "metadata": {
    "ExecuteTime": {
     "end_time": "2025-03-12T13:58:15.833473Z",
     "start_time": "2025-03-12T13:58:15.827535Z"
    }
   },
   "source": [
    "# Configurando estilo do seaborn\n",
    "sns.set_style(\"darkgrid\")"
   ],
   "outputs": [],
   "execution_count": 14
  },
  {
   "cell_type": "markdown",
   "id": "f8308904a2fb19d",
   "metadata": {},
   "source": [
    "### <em style=\"color:lightblue;\">Visualizando a Taxa de Sobrevivência por Classe</em>"
   ]
  },
  {
   "cell_type": "code",
   "id": "a377625d1eb35bef",
   "metadata": {
    "ExecuteTime": {
     "end_time": "2025-03-12T13:58:16.140900Z",
     "start_time": "2025-03-12T13:58:15.927733Z"
    }
   },
   "source": [
    "# Gráfico de barras para taxa de sobrevivência por classe\n",
    "plt.figure(figsize=(4, 3))\n",
    "sns.barplot(data=df, x='Pclass', y='Survived', hue='Pclass', errorbar=None, legend=False)\n",
    "plt.title('Taxa de Sobrevivência')\n",
    "plt.xlabel('Classe')\n",
    "plt.ylabel('Taxa de Sobrevivência')\n",
    "plt.show()"
   ],
   "outputs": [
    {
     "data": {
      "text/plain": [
       "<Figure size 400x300 with 1 Axes>"
      ],
      "image/png": "[encoded data removed]"
     },
     "metadata": {},
     "output_type": "display_data"
    }
   ],
   "execution_count": 15
  },
  {
   "cell_type": "markdown",
   "id": "4e1b10576a761e98",
   "metadata": {},
   "source": [
    "Como na terceira classe existem mais pessoas, a taxa de sobrevivência é, consequentemente, menor."
   ]
  },
  {
   "cell_type": "markdown",
   "id": "2806c1a40bf70dae",
   "metadata": {},
   "source": [
    "### <em style=\"color:lightblue;\">Visualizando a Taxa de Sobrevivência por Gênero</em>"
   ]
  },
  {
   "cell_type": "code",
   "id": "21834e51a760081d",
   "metadata": {
    "ExecuteTime": {
     "end_time": "2025-03-12T13:58:16.364010Z",
     "start_time": "2025-03-12T13:58:16.171462Z"
    }
   },
   "source": [
    "plt.figure(figsize=(8, 6))\n",
    "sns.barplot(data=df, x='Sex', y='Survived', hue='Sex', errorbar=None, legend=False)\n",
    "plt.title('Taxa de Sobrevivência por Gênero')\n",
    "plt.xlabel('Gênero')\n",
    "plt.ylabel('Taxa de Sobrevivência')\n",
    "plt.show()"
   ],
   "outputs": [
    {
     "data": {
      "text/plain": [
       "<Figure size 800x600 with 1 Axes>"
      ],
      "image/png": "[encoded data removed]"
     },
     "metadata": {},
     "output_type": "display_data"
    }
   ],
   "execution_count": 16
  },
  {
   "cell_type": "markdown",
   "id": "24643702a1816be6",
   "metadata": {},
   "source": [
    "# Preparação dos Dados para Machine Learning"
   ]
  },
  {
   "cell_type": "markdown",
   "id": "baf7158e6b862274",
   "metadata": {},
   "source": [
    "### <em style=\"color:lightblue;\">Transformando Variáveis Categóricas em Numéricas</em>"
   ]
  },
  {
   "cell_type": "code",
   "id": "ea1b2f94c479b60f",
   "metadata": {
    "ExecuteTime": {
     "end_time": "2025-03-12T13:58:16.405057Z",
     "start_time": "2025-03-12T13:58:16.399245Z"
    }
   },
   "source": [
    "# Sex e Embarked são categóricas e precisam ser transformadas em numéricas\n",
    "sex_encoder = LabelEncoder()\n",
    "\n",
    "# Transformando variáveis categóricas em numéricas no conjunto de treino\n",
    "df['Sex'] = sex_encoder.fit_transform(df['Sex'])\n"
   ],
   "outputs": [],
   "execution_count": 17
  },
  {
   "cell_type": "markdown",
   "id": "af1d8e49ee0d320f",
   "metadata": {},
   "source": [
    "# Treinamento do modelo"
   ]
  },
  {
   "cell_type": "markdown",
   "id": "af17c3004a875a8d",
   "metadata": {},
   "source": [
    "### <em style=\"color:lightblue;\">Separando features e target</em>"
   ]
  },
  {
   "cell_type": "code",
   "id": "73222ac3bf962cf7",
   "metadata": {
    "ExecuteTime": {
     "end_time": "2025-03-12T13:58:16.461162Z",
     "start_time": "2025-03-12T13:58:16.455768Z"
    }
   },
   "source": [
    "# Separando features= X e target= Y\n",
    "X = df.drop('Survived', axis=1)\n",
    "Y = df['Survived']"
   ],
   "outputs": [],
   "execution_count": 18
  },
  {
   "cell_type": "markdown",
   "id": "2d751b801b6183dd",
   "metadata": {},
   "source": [
    "### <em style=\"color:lightblue;\">Divisão em conjuntos de treino e validação (80/20)</em>"
   ]
  },
  {
   "cell_type": "code",
   "id": "a0d90609bd24394c",
   "metadata": {
    "ExecuteTime": {
     "end_time": "2025-03-12T13:58:16.512085Z",
     "start_time": "2025-03-12T13:58:16.502867Z"
    }
   },
   "source": [
    "X_train, X_val, Y_train, Y_val = train_test_split(X, Y, test_size=0.2, random_state=42)"
   ],
   "outputs": [],
   "execution_count": 19
  },
  {
   "cell_type": "markdown",
   "id": "6f75f5268e72c0fe",
   "metadata": {},
   "source": [
    "### <em style=\"color:lightblue;\">Padronização dos Dados</em>"
   ]
  },
  {
   "cell_type": "code",
   "id": "222c85ac531b5032",
   "metadata": {
    "ExecuteTime": {
     "end_time": "2025-03-12T13:58:16.552001Z",
     "start_time": "2025-03-12T13:58:16.539514Z"
    }
   },
   "source": [
    "## StandardScaler por ser mais sensível a outliers\n",
    "scaler = StandardScaler()\n",
    "X_train_scaled = scaler.fit_transform(X_train)\n",
    "X_val_scaled = scaler.transform(X_val)"
   ],
   "outputs": [],
   "execution_count": 20
  },
  {
   "cell_type": "markdown",
   "id": "b0ecae06145e155",
   "metadata": {},
   "source": [
    "# Definindo K"
   ]
  },
  {
   "cell_type": "markdown",
   "id": "b4b3b0b8f9ffb129",
   "metadata": {},
   "source": [
    "### <em style=\"color:lightblue;\">Definindo Diferentes Valores de K</em>"
   ]
  },
  {
   "cell_type": "code",
   "id": "31b23e8859c8c58",
   "metadata": {
    "ExecuteTime": {
     "end_time": "2025-03-12T13:58:16.567937Z",
     "start_time": "2025-03-12T13:58:16.562303Z"
    }
   },
   "source": [
    "# Definindo os valores de K para testar (de 1 a 10)\n",
    "k_values = range(1, 15)\n",
    "val_scores = []"
   ],
   "outputs": [],
   "execution_count": 21
  },
  {
   "cell_type": "markdown",
   "id": "8548a75b4324da5b",
   "metadata": {},
   "source": [
    "### <em style=\"color:lightblue;\">Testando diferentes valores de K</em>"
   ]
  },
  {
   "cell_type": "code",
   "id": "3e67347e01357bd1",
   "metadata": {
    "ExecuteTime": {
     "end_time": "2025-03-12T13:58:16.802738Z",
     "start_time": "2025-03-12T13:58:16.598490Z"
    }
   },
   "source": [
    "# Testando diferentes valores de K\n",
    "for k in k_values:\n",
    "    knn = KNeighborsClassifier(n_neighbors=k)\n",
    "    knn.fit(X_train_scaled, Y_train)\n",
    "\n",
    "    # Avaliando no conjunto de validação\n",
    "    val_score = knn.score(X_val_scaled, Y_val)\n",
    "    val_scores.append(val_score)"
   ],
   "outputs": [],
   "execution_count": 22
  },
  {
   "cell_type": "markdown",
   "id": "90804996c8924004",
   "metadata": {},
   "source": [
    "### <em style=\"color:lightblue;\">Mostando gráfico para melhor visualizaçãp (1 a 15)</em>"
   ]
  },
  {
   "cell_type": "code",
   "id": "ff1c79639d59cedd",
   "metadata": {
    "ExecuteTime": {
     "end_time": "2025-03-12T13:58:16.987841Z",
     "start_time": "2025-03-12T13:58:16.832076Z"
    }
   },
   "source": [
    "# Plotando o gráfico\n",
    "plt.rcParams['axes.prop_cycle'] = plt.cycler(color=plt.cm.viridis_r(np.linspace(0, 1, 15)))\n",
    "plt.figure(figsize=(8, 5))\n",
    "plt.plot(k_values, val_scores, marker='o', linestyle='-')\n",
    "plt.xlabel('Vizinhos (K)')\n",
    "plt.ylabel('Acurácia')\n",
    "plt.title('Acurácia em diferentes valores de K (1 a 15)')\n",
    "plt.grid(True)\n",
    "plt.show()"
   ],
   "outputs": [
    {
     "data": {
      "text/plain": [
       "<Figure size 800x500 with 1 Axes>"
      ],
      "image/png": "[encoded data removed]"
     },
     "metadata": {},
     "output_type": "display_data"
    }
   ],
   "execution_count": 23
  }
 ],
 "metadata": {
  "colab": {
   "provenance": []
  },
  "kernelspec": {
   "display_name": "Python 3 (ipykernel)",
   "language": "python",
   "name": "python3"
  },
  "language_info": {
   "codemirror_mode": {
    "name": "ipython",
    "version": 3
   },
   "file_extension": ".py",
   "mimetype": "text/x-python",
   "name": "python",
   "nbconvert_exporter": "python",
   "pygments_lexer": "ipython3",
   "version": "3.13.2"
  }
 },
 "nbformat": 4,
 "nbformat_minor": 5
}
