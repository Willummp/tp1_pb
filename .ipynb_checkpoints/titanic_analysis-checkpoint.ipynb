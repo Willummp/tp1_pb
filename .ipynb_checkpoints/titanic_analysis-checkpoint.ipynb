{
 "cells": [
  {
   "cell_type": "markdown",
   "id": "484a1fbe09b932b3",
   "metadata": {},
   "source": [
    "# Titanic Dataset\n",
    "## TP1 de Projeto de Bloco: Inteligência Artificial e Machine Learning [25E1_5]\n",
    "### Aluno: Lucas de Souza Ferreira\n"
   ]
  },
  {
   "cell_type": "markdown",
   "id": "33a6f850f1a6038e",
   "metadata": {},
   "source": [
    "| Variável  | Tipo de Dado | Descrição | Valores Possíveis |\n",
    "|-----------|--------------|-----------|-------------------|\n",
    "| Survival  | Integer      | Indica se o passageiro sobreviveu | 0: Não sobreviveu, 1: Sobreviveu |\n",
    "| Pclass    | Integer      | Classe da passagem | 1: Primeira Classe, 2: Segunda Classe, 3: Terceira Classe |\n",
    "| Sex       | String       | Gênero do passageiro | 'male', 'female' |\n",
    "| Age       | Float        | Idade do passageiro | Valor em anos (pode conter valores nulos) |\n",
    "| Sibsp     | Integer      | Quantidade de irmãos/cônjuges a bordo | Número inteiro ≥ 0 |\n",
    "| Parch     | Integer      | Quantidade de pais/filhos a bordo | Número inteiro ≥ 0 |\n",
    "| Ticket    | String       | Número do bilhete | Código alfanumérico |\n",
    "| Fare      | Float        | Valor da tarifa | Valor em libras esterlinas (£) da época |\n",
    "| Cabin     | String       | Número da cabine | Código alfanumérico (pode conter valores nulos) |\n",
    "| Embarked  | String       | Porto de embarque | 'C': Cherbourg, 'Q': Queenstown, 'S': Southampton |"
   ]
  },
  {
   "cell_type": "markdown",
   "id": "9a6c9d0ef9a5e2a4",
   "metadata": {},
   "source": [
    "## Importações"
   ]
  },
  {
   "cell_type": "code",
   "execution_count": null,
   "id": "a2c18f2c6599a06",
   "metadata": {},
   "outputs": [],
   "source": [
    "# Import de Pandas, para manipulação de dados\n",
    "import pandas as pd\n",
    "# Import de Seaborn, para visualização de gráficos\n",
    "import seaborn as sns\n",
    "# Import de Matplotlib, para visualização de gráficos\n",
    "import matplotlib.pyplot as plt\n",
    "# Import de Sklearn.preprocessing LabelEncoder, para transformar variáveis categóricas em numéricas\n",
    "from sklearn.preprocessing import LabelEncoder\n",
    "# Import de Sklearn.model_selection train_test_split, para dividir os dados em conjuntos de treino e validação\n",
    "from sklearn.model_selection import train_test_split\n",
    "# Import de Sklearn.preprocessing StandardScaler, para padronizar os dados\n",
    "from sklearn.preprocessing import StandardScaler\n",
    "# Import de Sklearn.neighbors KNeighborsClassifier, para classificação com KNN\n",
    "from sklearn.neighbors import KNeighborsClassifier\n",
    "# Import de Numpy, para manipulação de arrays\n",
    "import numpy as np"
   ]
  },
  {
   "cell_type": "markdown",
   "id": "e71f471796fee4bd",
   "metadata": {},
   "source": [
    "## Carregamento dos Dados"
   ]
  },
  {
   "cell_type": "code",
   "execution_count": null,
   "id": "f9c978e5cb854834",
   "metadata": {},
   "outputs": [],
   "source": [
    "# Carregando os dados\n",
    "df = pd.read_csv('datasets/train.csv')\n",
    "\n",
    "print(\"Titanic // Primeiras linhas:\")\n",
    "df.head()"
   ]
  },
  {
   "cell_type": "markdown",
   "id": "41841c823c0a434d",
   "metadata": {},
   "source": [
    "## Informações e Estatísticas Básicas do Dataset Titanic"
   ]
  },
  {
   "cell_type": "code",
   "execution_count": null,
   "id": "85691f0fae15f44b",
   "metadata": {},
   "outputs": [],
   "source": [
    "df.info()"
   ]
  },
  {
   "cell_type": "markdown",
   "id": "2bcecc8e8ecadcba",
   "metadata": {},
   "source": [
    "## Análise Estatística Descritiva"
   ]
  },
  {
   "cell_type": "code",
   "execution_count": null,
   "id": "7ea575383389fc2c",
   "metadata": {},
   "outputs": [],
   "source": [
    "# Analise Estatisca Descritiva, utilizando o método describe()\n",
    "df.describe()"
   ]
  },
  {
   "cell_type": "markdown",
   "id": "c5612d76eae49340",
   "metadata": {},
   "source": [
    "## Visualizando Valores Nulos"
   ]
  },
  {
   "cell_type": "markdown",
   "id": "70eefc3f9140b525",
   "metadata": {},
   "source": [
    "### <em style=\"color:lightblue;\">Verificando os valores Nulos por coluna</em>"
   ]
  },
  {
   "cell_type": "code",
   "execution_count": null,
   "id": "2aecf00af02f1096",
   "metadata": {},
   "outputs": [],
   "source": [
    "# Verificando os valores nulos por coluna\n",
    "df.isnull().sum()"
   ]
  },
  {
   "cell_type": "markdown",
   "id": "5572492dfb9ec0b8",
   "metadata": {},
   "source": [
    "## Visualizando Valores"
   ]
  },
  {
   "cell_type": "markdown",
   "id": "75dd8f542e2841dc",
   "metadata": {},
   "source": [
    "### <em style=\"color:lightblue;\">Idade (Age) </em>"
   ]
  },
  {
   "cell_type": "code",
   "execution_count": null,
   "id": "88d68e7651d2d83b",
   "metadata": {},
   "outputs": [],
   "source": [
    "# Verificando a quantidade de valores nulos na coluna 'Age' e a quantidade de linhas do dataset\n",
    "df[df['Age'].isnull()].shape"
   ]
  },
  {
   "cell_type": "markdown",
   "id": "f5ea7f2fe3b26f7f",
   "metadata": {},
   "source": [
    "### <em style=\"color:lightblue;\">Visualizando a Destribuição de Idade </em>"
   ]
  },
  {
   "cell_type": "code",
   "execution_count": null,
   "id": "a151b4f35658c5bd",
   "metadata": {},
   "outputs": [],
   "source": [
    "#Visualizando distribuição de idade dos passageiros do Titanic (com valores nulos)\n",
    "df.Age.plot.box()"
   ]
  },
  {
   "cell_type": "markdown",
   "id": "3d41b8b63f0cf47d",
   "metadata": {},
   "source": [
    "### <em style=\"color:lightblue;\">Contagem de pessoas por genero em cada classe</em>"
   ]
  },
  {
   "cell_type": "code",
   "execution_count": null,
   "id": "59d3fda4cfa51f3f",
   "metadata": {},
   "outputs": [],
   "source": [
    "# Contagem de pessoas por genero em cada classe\n",
    "print(\"Contagem de pessoas por genero em cada classe:\")\n",
    "df.groupby(['Pclass', 'Sex'])['Pclass'].count()"
   ]
  },
  {
   "cell_type": "markdown",
   "id": "6147b765a47b19e5",
   "metadata": {},
   "source": [
    "### <em style=\"color:lightblue;\">A porcentagem de pessoas por classe.</em>"
   ]
  },
  {
   "cell_type": "code",
   "execution_count": null,
   "id": "39b614c00a54c4b6",
   "metadata": {},
   "outputs": [],
   "source": [
    "df['Pclass'].value_counts(normalize=True).round(2)\n",
    "\n",
    "plt.figure(figsize=(4, 3))\n",
    "sns.barplot(data=df, x='Pclass', y='Pclass', estimator=lambda x: len(x) / len(df) * 100)\n",
    "plt.title('Porcentagem de Pessoas por Classe')\n",
    "plt.xlabel('Classe')\n",
    "plt.ylabel('Porcentagem')\n",
    "plt.show()\n"
   ]
  },
  {
   "cell_type": "markdown",
   "id": "4d00a740cb39d670",
   "metadata": {},
   "source": [
    "### <em style=\"color:lightblue;\">A MÉDIA das idades de pessoas por classe</em>"
   ]
  },
  {
   "cell_type": "code",
   "execution_count": null,
   "id": "7fbe9775d254cb2c",
   "metadata": {},
   "outputs": [],
   "source": [
    "# A média das idades de pessoas por classe\n",
    "df.groupby(['Pclass', \"Sex\"])['Age'].mean().round()"
   ]
  },
  {
   "cell_type": "markdown",
   "id": "e25bae9c1689e7d9",
   "metadata": {},
   "source": [
    "## Tratamento de Valores Nulos (Age)"
   ]
  },
  {
   "cell_type": "code",
   "execution_count": null,
   "id": "fa20c807fb606ae0",
   "metadata": {},
   "outputs": [],
   "source": [
    "#\n",
    "df['Age'] = df['Age'].fillna(df.groupby(['Pclass', 'Sex'])['Age'].transform('mean'))\n"
   ]
  },
  {
   "cell_type": "markdown",
   "id": "77fb2de77bf610b2",
   "metadata": {},
   "source": [
    "## Deletando Colunas irrelevantes"
   ]
  },
  {
   "cell_type": "markdown",
   "id": "abf609665f53c12f",
   "metadata": {},
   "source": [
    "As Colunas que serão utilizadas como features são:\n",
    "- Pclass\n",
    "- Sex\n",
    "- Age\n",
    "\n",
    "A coluna que será utilizada como target é:\n",
    "- Survived"
   ]
  },
  {
   "cell_type": "markdown",
   "id": "280d7a3919571340",
   "metadata": {},
   "source": [
    "### <em style=\"color:lightblue;\">Remoção das colunas irrelevantes</em>"
   ]
  },
  {
   "cell_type": "code",
   "execution_count": null,
   "id": "b624582dea6ef342",
   "metadata": {},
   "outputs": [],
   "source": [
    "# Removendo colunas irrelevantes\n",
    "# Todas, exceto Pclass, Sex, Age e Survived\n",
    "\n",
    "df.drop(['PassengerId', 'Name', 'SibSp', 'Parch', 'Ticket', 'Fare', 'Cabin', 'Embarked'], axis=1, inplace=True)"
   ]
  },
  {
   "cell_type": "markdown",
   "id": "ce828b216614dd93",
   "metadata": {},
   "source": [
    "### <em style=\"color:lightblue;\">Verificando as primeiras linhas do dataset após a remoção das colunas</em>"
   ]
  },
  {
   "cell_type": "code",
   "execution_count": null,
   "id": "d1ad640b0501fff9",
   "metadata": {},
   "outputs": [],
   "source": [
    "# Verificando as primeiras linhas do dataset após a remoção das colunas\n",
    "df.info()"
   ]
  },
  {
   "cell_type": "markdown",
   "id": "f36dab066a148de5",
   "metadata": {},
   "source": [
    "## Visualizando Taxas de Sobrevivência"
   ]
  },
  {
   "cell_type": "markdown",
   "id": "9688edbacb2d0199",
   "metadata": {},
   "source": [
    "### <em style=\"color:lightblue;\">Configurando Seaborn</em>"
   ]
  },
  {
   "cell_type": "code",
   "execution_count": null,
   "id": "2ca35663758fb7b1",
   "metadata": {},
   "outputs": [],
   "source": [
    "# Configurando estilo do seaborn\n",
    "sns.set_style(\"darkgrid\")"
   ]
  },
  {
   "cell_type": "markdown",
   "id": "f8308904a2fb19d",
   "metadata": {},
   "source": [
    "### <em style=\"color:lightblue;\">Visualizando a Taxa de Sobrevivência por Classe</em>"
   ]
  },
  {
   "cell_type": "code",
   "execution_count": null,
   "id": "a377625d1eb35bef",
   "metadata": {},
   "outputs": [],
   "source": [
    "# Gráfico de barras para taxa de sobrevivência por classe\n",
    "plt.figure(figsize=(4, 3))\n",
    "sns.barplot(data=df, x='Pclass', y='Survived', hue='Pclass', errorbar=None, legend=False)\n",
    "plt.title('Taxa de Sobrevivência')\n",
    "plt.xlabel('Classe')\n",
    "plt.ylabel('Taxa de Sobrevivência')\n",
    "plt.show()"
   ]
  },
  {
   "cell_type": "markdown",
   "id": "4e1b10576a761e98",
   "metadata": {},
   "source": [
    "Como na terceira classe existem mais pessoas, a taxa de sobrevivência é, consequentemente, menor."
   ]
  },
  {
   "cell_type": "markdown",
   "id": "2806c1a40bf70dae",
   "metadata": {},
   "source": [
    "### <em style=\"color:lightblue;\">Visualizando a Taxa de Sobrevivência por Gênero</em>"
   ]
  },
  {
   "cell_type": "code",
   "execution_count": null,
   "id": "21834e51a760081d",
   "metadata": {},
   "outputs": [],
   "source": [
    "plt.figure(figsize=(8, 6))\n",
    "sns.barplot(data=df, x='Sex', y='Survived', hue='Sex', errorbar=None, legend=False)\n",
    "plt.title('Taxa de Sobrevivência por Gênero')\n",
    "plt.xlabel('Gênero')\n",
    "plt.ylabel('Taxa de Sobrevivência')\n",
    "plt.show()"
   ]
  },
  {
   "cell_type": "markdown",
   "id": "24643702a1816be6",
   "metadata": {},
   "source": [
    "# Preparação dos Dados para Machine Learning"
   ]
  },
  {
   "cell_type": "markdown",
   "id": "baf7158e6b862274",
   "metadata": {},
   "source": [
    "### <em style=\"color:lightblue;\">Transformando Variáveis Categóricas em Numéricas</em>"
   ]
  },
  {
   "cell_type": "code",
   "execution_count": null,
   "id": "ea1b2f94c479b60f",
   "metadata": {},
   "outputs": [],
   "source": [
    "# Sex e Embarked são categóricas e precisam ser transformadas em numéricas\n",
    "sex_encoder = LabelEncoder()\n",
    "\n",
    "# Transformando variáveis categóricas em numéricas no conjunto de treino\n",
    "df['Sex'] = sex_encoder.fit_transform(df['Sex'])\n"
   ]
  },
  {
   "cell_type": "markdown",
   "id": "af1d8e49ee0d320f",
   "metadata": {},
   "source": [
    "# Treinamento do modelo"
   ]
  },
  {
   "cell_type": "markdown",
   "id": "af17c3004a875a8d",
   "metadata": {},
   "source": [
    "### <em style=\"color:lightblue;\">Separando features e target</em>"
   ]
  },
  {
   "cell_type": "code",
   "execution_count": null,
   "id": "73222ac3bf962cf7",
   "metadata": {},
   "outputs": [],
   "source": [
    "# Separando features= X e target= Y\n",
    "X = df.drop('Survived', axis=1)\n",
    "Y = df['Survived']"
   ]
  },
  {
   "cell_type": "markdown",
   "id": "2d751b801b6183dd",
   "metadata": {},
   "source": [
    "### <em style=\"color:lightblue;\">Divisão em conjuntos de treino e validação (80/20)</em>"
   ]
  },
  {
   "cell_type": "code",
   "execution_count": null,
   "id": "a0d90609bd24394c",
   "metadata": {},
   "outputs": [],
   "source": [
    "X_train, X_val, Y_train, Y_val = train_test_split(X, Y, test_size=0.2, random_state=42)"
   ]
  },
  {
   "cell_type": "markdown",
   "id": "6f75f5268e72c0fe",
   "metadata": {},
   "source": [
    "### <em style=\"color:lightblue;\">Padronização dos Dados</em>"
   ]
  },
  {
   "cell_type": "code",
   "execution_count": null,
   "id": "222c85ac531b5032",
   "metadata": {},
   "outputs": [],
   "source": [
    "## StandardScaler por ser mais sensível a outliers\n",
    "scaler = StandardScaler()\n",
    "X_train_scaled = scaler.fit_transform(X_train)\n",
    "X_val_scaled = scaler.transform(X_val)"
   ]
  },
  {
   "cell_type": "markdown",
   "id": "b0ecae06145e155",
   "metadata": {},
   "source": [
    "# Definindo K"
   ]
  },
  {
   "cell_type": "markdown",
   "id": "b4b3b0b8f9ffb129",
   "metadata": {},
   "source": [
    "### <em style=\"color:lightblue;\">Definindo Diferentes Valores de K</em>"
   ]
  },
  {
   "cell_type": "code",
   "execution_count": null,
   "id": "31b23e8859c8c58",
   "metadata": {},
   "outputs": [],
   "source": [
    "# Definindo os valores de K para testar (de 1 a 10)\n",
    "k_values = range(1, 15)\n",
    "val_scores = []"
   ]
  },
  {
   "cell_type": "markdown",
   "id": "8548a75b4324da5b",
   "metadata": {},
   "source": [
    "### <em style=\"color:lightblue;\">Testando diferentes valores de K</em>"
   ]
  },
  {
   "cell_type": "code",
   "execution_count": null,
   "id": "3e67347e01357bd1",
   "metadata": {},
   "outputs": [],
   "source": [
    "# Testando diferentes valores de K\n",
    "for k in k_values:\n",
    "    knn = KNeighborsClassifier(n_neighbors=k)\n",
    "    knn.fit(X_train_scaled, Y_train)\n",
    "\n",
    "    # Avaliando no conjunto de validação\n",
    "    val_score = knn.score(X_val_scaled, Y_val)\n",
    "    val_scores.append(val_score)"
   ]
  },
  {
   "cell_type": "markdown",
   "id": "90804996c8924004",
   "metadata": {},
   "source": [
    "### <em style=\"color:lightblue;\">Mostando gráfico para melhor visualizaçãp (1 a 15)</em>"
   ]
  },
  {
   "cell_type": "code",
   "execution_count": null,
   "id": "ff1c79639d59cedd",
   "metadata": {},
   "outputs": [],
   "source": [
    "# Plotando o gráfico\n",
    "plt.rcParams['axes.prop_cycle'] = plt.cycler(color=plt.cm.viridis_r(np.linspace(0, 1, 15)))\n",
    "plt.figure(figsize=(8, 5))\n",
    "plt.plot(k_values, val_scores, marker='o', linestyle='-')\n",
    "plt.xlabel('Vizinhos (K)')\n",
    "plt.ylabel('Acurácia')\n",
    "plt.title('Acurácia em diferentes valores de K (1 a 15)')\n",
    "plt.grid(True)\n",
    "plt.show()"
   ]
  }
 ],
 "metadata": {
  "colab": {
   "provenance": []
  },
  "kernelspec": {
   "display_name": "Python 3 (ipykernel)",
   "language": "python",
   "name": "python3"
  },
  "language_info": {
   "codemirror_mode": {
    "name": "ipython",
    "version": 3
   },
   "file_extension": ".py",
   "mimetype": "text/x-python",
   "name": "python",
   "nbconvert_exporter": "python",
   "pygments_lexer": "ipython3",
   "version": "3.13.2"
  }
 },
 "nbformat": 4,
 "nbformat_minor": 5
}
